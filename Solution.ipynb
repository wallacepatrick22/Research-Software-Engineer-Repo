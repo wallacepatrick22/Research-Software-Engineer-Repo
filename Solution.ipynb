{
 "cells": [
  {
   "cell_type": "markdown",
   "metadata": {},
   "source": [
    "Answer to question 1"
   ]
  },
  {
   "cell_type": "code",
   "execution_count": 1,
   "metadata": {},
   "outputs": [
    {
     "name": "stdout",
     "output_type": "stream",
     "text": [
      "100 had their file extension changed from csv to dat successfully\n"
     ]
    }
   ],
   "source": [
    "# The researcher will have to run the python code below as a python script or from jupyter notebook, which will then execute to change any file extension from the present file extension  to the new file extension provided\n",
    "\n",
    "# Import the OS library\n",
    "import os\n",
    "\n",
    "# Define the file path of the folder whose files require a file extension change\n",
    "path =  \"/home/wallace-vbox/rseprac/problem_1/\"              # Enter the file path of the folder\n",
    "curr_ext = \"csv\"                                                # Enter the current file extension of the files to be changed\n",
    "new_ext = \"dat\"                                                 # Enter the new file extension you will like to change the files to\n",
    "\n",
    "\n",
    "# Function that will carry-out the file extension change\n",
    "def change_ext (file_path,curr_ext,new_ext):                    # Define the name of the function and the expected parameters which are the file path, current extension and new extension\n",
    "    for i in os.listdir(file_path):                             # Loop to scan through the folder for the files and iterating them\n",
    "        file_name_split = i.split(\".\")                          # Splitting the current file name and the extension into two variables in a list\n",
    "        if file_name_split[1] == curr_ext:                      # Comparing the iterated file extension with the  current file extension that requires change\n",
    "            new_file= file_name_split[0]+\".\"+new_ext            # If the iterated file extension requires change, created a new file name with the new extension\n",
    "            old_file_name = os.path.join(file_path,i)           # Join the file path to the current file name containing the old file extension\n",
    "            new_file_name = os.path.join(file_path,new_file)    # Join the file path to the new file name containing the new file extension\n",
    "            os.rename(old_file_name,new_file_name)              # Replace the old file name file name with the new file name containing the new file extension\n",
    "        else:                                                   # Check if any file doesn't have the old file extension to be changed\n",
    "            continue                                                # If it doesn't have the old file extension to be changed, skip the file.\n",
    "\n",
    "    result_text = \"{0} had their file extension changed from {1} to {2} successfully\".format(len(os.listdir(file_path)),curr_ext,new_ext)   #This is the text to be printed which will show how many files had their file extensions changed.\n",
    "    \n",
    "    report = print(result_text)                                 # Prints the created text showing report of what has been done\n",
    "    \n",
    "    return report                                               # Return the created report\n",
    "\n",
    "change_ext(path, curr_ext, new_ext)                             # Call the function and pass the expected parameters"
   ]
  },
  {
   "cell_type": "markdown",
   "metadata": {},
   "source": [
    "Answer to question 2"
   ]
  },
  {
   "cell_type": "code",
   "execution_count": 2,
   "metadata": {},
   "outputs": [
    {
     "name": "stdout",
     "output_type": "stream",
     "text": [
      "There were no files founds containing less than 100 values after examination of 299 files\n"
     ]
    }
   ],
   "source": [
    "# Import the needed library\n",
    "import os\n",
    "\n",
    "# Create a list for the store results under the minimum length threshold\n",
    "result = list()\n",
    "\n",
    "# Create a variable for the file path\n",
    "file_path =  \"/home/wallace-vbox/rseprac/problem_2/\" \n",
    "\n",
    "# Create a variable for the minimum lenth threshold\n",
    "min_len = 100\n",
    "\n",
    "\n",
    "# Function to analyse the data\n",
    "def check_file_len (path,threshold):                       # Define the functionthat will analyse the data and expected parameters which are the file path and the minimum length threshold\n",
    "    for i in os.listdir(path):                             # Loop to scan through the folder for the files and iterating them\n",
    "        file = path + i                                    # Creating the full file path of the each iterated file\n",
    "        with open(file) as writer:                         # Opening the contents of the file\n",
    "            data = writer.read()                           # Writing the contents of the file to a variable\n",
    "        new_data = data.split(\"\\t\")                      # Split the data into a list while eliminating the separator\n",
    "\n",
    "        if len(new_data) < threshold:                      # Comparing the length of the list to the minimum length threshold\n",
    "            result.append({i : len(new_data)})             # Values less than the threshold are appended in a dictionary that will contain the filename and the number of the values\n",
    "\n",
    "\n",
    "\n",
    "        else:                                              # Values above the threshold\n",
    "            continue                                       # Do nothing and continue to te next file\n",
    "\n",
    "    if len(result) != 0 :                                  # If any file contains  less than the threshold this text will be printed\n",
    "        result_text = \"The following documents were found containing less than {0} values after examination of {1} files and are presented in the format {2}: \\n{3}\".format(min_len,len(os.listdir(path)),\"{fileName:number of values found}\", result )\n",
    "\n",
    "\n",
    "    else:                                                  # If no file contains  less than the threshold this text will be printed\n",
    "        result_text = \"There were no files founds containing less than {0} values after examination of {1} files\".format(min_len,len(os.listdir(path)))\n",
    "\n",
    "    \n",
    "    report = print(result_text)                            # Text to be printed is added to the print function and saved in a variable called report\n",
    "\n",
    "    return report                                          # A variable name report is returned in the end containing every detail needed\n",
    "\n",
    "\n",
    "check_file_len(file_path, min_len)                         # Call the function and pass the expected parameters\n"
   ]
  },
  {
   "cell_type": "markdown",
   "metadata": {},
   "source": [
    "Answer to question 3"
   ]
  },
  {
   "cell_type": "markdown",
   "metadata": {},
   "source": [
    "From my analysis of the code snippet, I made observations and will recommend as follows:\n",
    "\n",
    "1.) Avoid nested loop where possible as this is a known factor that increases the execution time of a program due to the number of operations required. For example two loops repeated separately 100 times will produces 200 opeartions while two loops repeated 100 times  as a nested loops will produce 10,000 opearations.\n",
    "\n",
    "2.) Avoid unnecessary repetition and redundancy in your code as s[j]=0 was repeated twice in your code with one of the assignment of the supposed list index  s[j] was not necessary and can be taken out of the code.\n",
    "\n",
    "3.) Range objects which is the returned value from a range function are immutable and cannot be reassigned a new value. Instead the range objects should be converted to a list if you wish to reassign values of the range objects.\n",
    "\n",
    "4.) The index for a list has to be an integer not a float and it has to be specified as such where required."
   ]
  },
  {
   "cell_type": "markdown",
   "metadata": {},
   "source": [
    "Answer to question 4"
   ]
  },
  {
   "cell_type": "markdown",
   "metadata": {},
   "source": [
    "How I will go about the process of requirement analysis:\n",
    "\n",
    "i.) Identify the researchers objective for the project that requires the data.\n",
    "ii.) Evaluate the feasibility of the project to determine if we meet the economic, technical and legal requirements for such project\n",
    "iii.) Allocate resources for the project\n",
    "iv.)   Plan review points, process flow and life cycle of the project\n",
    "\n",
    "\n",
    "Important I will ask and why:\n",
    "\n",
    "i.) What is the goal of the project that requires the data as this will help me understand what needs to be done and provides me with information of what success of this project should look like.\n",
    "ii.) Who are the stakeholders for this project.This will help to ensure that the project meet the funding guidelines and expectations.\n",
    "iii.) What resource will the project need, this will help to scale the project.\n",
    "iv.) What are your expectations with regards to the data quality, this will help to ensure that the data source selected by the researcher is fit for purpose.\n",
    "v.) Are the critical data elements required by the researcher contained in data source as this will be key in helping the researcher achieve their goal."
   ]
  },
  {
   "cell_type": "markdown",
   "metadata": {},
   "source": [
    "Answer to question 5"
   ]
  },
  {
   "cell_type": "markdown",
   "metadata": {},
   "source": [
    "i.) fname_out is a variable housing a string data type that contains data from a variable called Home concatenated with data from another variable called MetaData and then concatenated with a .png file extension.\n",
    "The MetaData is a string data type that contains data from a variable called VarName concatenated with data from another variable called TimeStamp which is then concatenated with string containing an underscore and finally concatenated with data from a variable called Frame that houses another variable called simhour.\n",
    "\n",
    "The above statements can be represented as follows:\n",
    "\n",
    "fname_out = \"HomeOzone_2001-01-01_(\"%04d\"%simhour).png\"\n",
    "\n",
    "\n",
    "ii.) simhour and Home variables were not defined."
   ]
  }
 ],
 "metadata": {
  "kernelspec": {
   "display_name": "Python 3",
   "language": "python",
   "name": "python3"
  },
  "language_info": {
   "codemirror_mode": {
    "name": "ipython",
    "version": 3
   },
   "file_extension": ".py",
   "mimetype": "text/x-python",
   "name": "python",
   "nbconvert_exporter": "python",
   "pygments_lexer": "ipython3",
   "version": "3.11.6"
  }
 },
 "nbformat": 4,
 "nbformat_minor": 2
}
